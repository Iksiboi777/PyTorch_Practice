{
 "cells": [
  {
   "cell_type": "code",
   "execution_count": 1,
   "id": "db03758e",
   "metadata": {},
   "outputs": [
    {
     "name": "stdout",
     "output_type": "stream",
     "text": [
      "Skipping, found downloaded files in \"./animal-faces\" (use force=True to force download)\n"
     ]
    }
   ],
   "source": [
    "!pip install opendatasets --quiet\n",
    "import opendatasets as od\n",
    "od.download('https://www.kaggle.com/datasets/andrewmvd/animal-faces')"
   ]
  },
  {
   "cell_type": "code",
   "execution_count": 2,
   "id": "08ff361f",
   "metadata": {},
   "outputs": [
    {
     "name": "stdout",
     "output_type": "stream",
     "text": [
      "Requirement already satisfied: torchvision in /home/ikuseta/diplomski_projekt/dipl_pro_venv/lib/python3.9/site-packages (0.20.1+cu121)\n",
      "Requirement already satisfied: pillow!=8.3.*,>=5.3.0 in /home/ikuseta/diplomski_projekt/dipl_pro_venv/lib/python3.9/site-packages (from torchvision) (11.0.0)\n",
      "Requirement already satisfied: torch==2.5.1 in /home/ikuseta/diplomski_projekt/dipl_pro_venv/lib/python3.9/site-packages (from torchvision) (2.5.1+cu121)\n",
      "Requirement already satisfied: numpy in /home/ikuseta/diplomski_projekt/dipl_pro_venv/lib/python3.9/site-packages (from torchvision) (2.0.2)\n",
      "Requirement already satisfied: nvidia-cublas-cu12==12.1.3.1 in /home/ikuseta/diplomski_projekt/dipl_pro_venv/lib/python3.9/site-packages (from torch==2.5.1->torchvision) (12.1.3.1)\n",
      "Requirement already satisfied: filelock in /home/ikuseta/diplomski_projekt/dipl_pro_venv/lib/python3.9/site-packages (from torch==2.5.1->torchvision) (3.16.1)\n",
      "Requirement already satisfied: nvidia-cufft-cu12==11.0.2.54 in /home/ikuseta/diplomski_projekt/dipl_pro_venv/lib/python3.9/site-packages (from torch==2.5.1->torchvision) (11.0.2.54)\n",
      "Requirement already satisfied: jinja2 in /home/ikuseta/diplomski_projekt/dipl_pro_venv/lib/python3.9/site-packages (from torch==2.5.1->torchvision) (3.1.4)\n",
      "Requirement already satisfied: nvidia-cuda-nvrtc-cu12==12.1.105 in /home/ikuseta/diplomski_projekt/dipl_pro_venv/lib/python3.9/site-packages (from torch==2.5.1->torchvision) (12.1.105)\n",
      "Requirement already satisfied: nvidia-cuda-cupti-cu12==12.1.105 in /home/ikuseta/diplomski_projekt/dipl_pro_venv/lib/python3.9/site-packages (from torch==2.5.1->torchvision) (12.1.105)\n",
      "Requirement already satisfied: nvidia-cudnn-cu12==9.1.0.70 in /home/ikuseta/diplomski_projekt/dipl_pro_venv/lib/python3.9/site-packages (from torch==2.5.1->torchvision) (9.1.0.70)\n",
      "Requirement already satisfied: triton==3.1.0 in /home/ikuseta/diplomski_projekt/dipl_pro_venv/lib/python3.9/site-packages (from torch==2.5.1->torchvision) (3.1.0)\n",
      "Requirement already satisfied: sympy==1.13.1 in /home/ikuseta/diplomski_projekt/dipl_pro_venv/lib/python3.9/site-packages (from torch==2.5.1->torchvision) (1.13.1)\n",
      "Requirement already satisfied: fsspec in /home/ikuseta/diplomski_projekt/dipl_pro_venv/lib/python3.9/site-packages (from torch==2.5.1->torchvision) (2024.9.0)\n",
      "Requirement already satisfied: nvidia-nvtx-cu12==12.1.105 in /home/ikuseta/diplomski_projekt/dipl_pro_venv/lib/python3.9/site-packages (from torch==2.5.1->torchvision) (12.1.105)\n",
      "Requirement already satisfied: networkx in /home/ikuseta/diplomski_projekt/dipl_pro_venv/lib/python3.9/site-packages (from torch==2.5.1->torchvision) (3.2.1)\n",
      "Requirement already satisfied: nvidia-cusolver-cu12==11.4.5.107 in /home/ikuseta/diplomski_projekt/dipl_pro_venv/lib/python3.9/site-packages (from torch==2.5.1->torchvision) (11.4.5.107)\n",
      "Requirement already satisfied: nvidia-cuda-runtime-cu12==12.1.105 in /home/ikuseta/diplomski_projekt/dipl_pro_venv/lib/python3.9/site-packages (from torch==2.5.1->torchvision) (12.1.105)\n",
      "Requirement already satisfied: nvidia-nccl-cu12==2.21.5 in /home/ikuseta/diplomski_projekt/dipl_pro_venv/lib/python3.9/site-packages (from torch==2.5.1->torchvision) (2.21.5)\n",
      "Requirement already satisfied: nvidia-curand-cu12==10.3.2.106 in /home/ikuseta/diplomski_projekt/dipl_pro_venv/lib/python3.9/site-packages (from torch==2.5.1->torchvision) (10.3.2.106)\n",
      "Requirement already satisfied: typing-extensions>=4.8.0 in /home/ikuseta/diplomski_projekt/dipl_pro_venv/lib/python3.9/site-packages (from torch==2.5.1->torchvision) (4.12.2)\n",
      "Requirement already satisfied: nvidia-cusparse-cu12==12.1.0.106 in /home/ikuseta/diplomski_projekt/dipl_pro_venv/lib/python3.9/site-packages (from torch==2.5.1->torchvision) (12.1.0.106)\n",
      "Requirement already satisfied: nvidia-nvjitlink-cu12 in /home/ikuseta/diplomski_projekt/dipl_pro_venv/lib/python3.9/site-packages (from nvidia-cusolver-cu12==11.4.5.107->torch==2.5.1->torchvision) (12.6.85)\n",
      "Requirement already satisfied: mpmath<1.4,>=1.1.0 in /home/ikuseta/diplomski_projekt/dipl_pro_venv/lib/python3.9/site-packages (from sympy==1.13.1->torch==2.5.1->torchvision) (1.3.0)\n",
      "Requirement already satisfied: MarkupSafe>=2.0 in /home/ikuseta/diplomski_projekt/dipl_pro_venv/lib/python3.9/site-packages (from jinja2->torch==2.5.1->torchvision) (3.0.2)\n"
     ]
    }
   ],
   "source": [
    "!pip install torchvision"
   ]
  },
  {
   "cell_type": "code",
   "execution_count": 3,
   "id": "eba59ad3",
   "metadata": {},
   "outputs": [
    {
     "name": "stdout",
     "output_type": "stream",
     "text": [
      "cuda\n"
     ]
    }
   ],
   "source": [
    "import torch\n",
    "from torch import nn\n",
    "from torch.optim import Adam\n",
    "import torchvision.transforms as transforms\n",
    "from torch.utils.data import DataLoader, Dataset\n",
    "from sklearn.preprocessing import LabelEncoder\n",
    "import matplotlib.pyplot as plt\n",
    "from PIL import Image\n",
    "import pandas as pd\n",
    "import numpy as np\n",
    "import os\n",
    "\n",
    "device = \"cuda\" if torch.cuda.is_available() else \"cpu\"\n",
    "print(device)"
   ]
  },
  {
   "cell_type": "code",
   "execution_count": 4,
   "id": "33976413",
   "metadata": {},
   "outputs": [],
   "source": [
    "image_path = 'home'"
   ]
  }
 ],
 "metadata": {
  "kernelspec": {
   "display_name": "dipl_pro_venv",
   "language": "python",
   "name": "python3"
  },
  "language_info": {
   "codemirror_mode": {
    "name": "ipython",
    "version": 3
   },
   "file_extension": ".py",
   "mimetype": "text/x-python",
   "name": "python",
   "nbconvert_exporter": "python",
   "pygments_lexer": "ipython3",
   "version": "3.9.2"
  }
 },
 "nbformat": 4,
 "nbformat_minor": 5
}
