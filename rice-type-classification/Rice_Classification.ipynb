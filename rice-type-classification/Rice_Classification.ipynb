{
  "cells": [
    {
      "cell_type": "code",
      "execution_count": 1,
      "metadata": {
        "colab": {
          "base_uri": "https://localhost:8080/"
        },
        "id": "iHdpZl8p_Lfp",
        "outputId": "66bd402f-15ae-444e-f599-8848aa569b2f"
      },
      "outputs": [
        {
          "name": "stdout",
          "output_type": "stream",
          "text": [
            "Please provide your Kaggle credentials to download this dataset. Learn more: http://bit.ly/kaggle-creds\n",
            "Your Kaggle username:Your Kaggle Key:Dataset URL: https://www.kaggle.com/datasets/mssmartypants/rice-type-classification\n",
            "Downloading rice-type-classification.zip to ./rice-type-classification\n"
          ]
        },
        {
          "name": "stderr",
          "output_type": "stream",
          "text": [
            "100%|██████████| 888k/888k [00:00<00:00, 695MB/s]"
          ]
        },
        {
          "name": "stdout",
          "output_type": "stream",
          "text": [
            "\n"
          ]
        },
        {
          "name": "stderr",
          "output_type": "stream",
          "text": [
            "\n"
          ]
        }
      ],
      "source": [
        "!pip install opendatasets --quiet\n",
        "import opendatasets as od\n",
        "dataset_url = 'https://www.kaggle.com/datasets/mssmartypants/rice-type-classification'\n",
        "od.download(dataset_url)"
      ]
    },
    {
      "cell_type": "code",
      "execution_count": 2,
      "metadata": {},
      "outputs": [
        {
          "name": "stdout",
          "output_type": "stream",
          "text": [
            "Requirement already satisfied: torchsummary in ./dipl_pro_venv/lib/python3.9/site-packages (1.5.1)\n"
          ]
        }
      ],
      "source": [
        "!pip install torchsummary"
      ]
    },
    {
      "cell_type": "code",
      "execution_count": 3,
      "metadata": {
        "colab": {
          "base_uri": "https://localhost:8080/"
        },
        "id": "7Eoig7MV74Df",
        "outputId": "bc57a7f9-acd3-4ab0-db3e-19ce3cf921ac"
      },
      "outputs": [
        {
          "name": "stdout",
          "output_type": "stream",
          "text": [
            "cuda\n"
          ]
        }
      ],
      "source": [
        "import torch\n",
        "import torch.nn as nn\n",
        "from torch.optim import Adam\n",
        "from torch.utils.data import Dataset, DataLoader\n",
        "from torchsummary import summary\n",
        "from sklearn.model_selection import train_test_split\n",
        "from sklearn.metrics import accuracy_score\n",
        "import matplotlib.pyplot as plt\n",
        "import pandas as pd\n",
        "import numpy as np\n",
        "\n",
        "device = 'cuda' if torch.cuda.is_available() else 'cpu'\n",
        "print(device)"
      ]
    },
    {
      "cell_type": "code",
      "execution_count": 4,
      "metadata": {
        "colab": {
          "base_uri": "https://localhost:8080/",
          "height": 226
        },
        "id": "HKG6mF7g-jKG",
        "outputId": "552c41bf-0dc5-4baa-d027-f0a34a0a4ce9"
      },
      "outputs": [
        {
          "data": {
            "text/html": [
              "<div>\n",
              "<style scoped>\n",
              "    .dataframe tbody tr th:only-of-type {\n",
              "        vertical-align: middle;\n",
              "    }\n",
              "\n",
              "    .dataframe tbody tr th {\n",
              "        vertical-align: top;\n",
              "    }\n",
              "\n",
              "    .dataframe thead th {\n",
              "        text-align: right;\n",
              "    }\n",
              "</style>\n",
              "<table border=\"1\" class=\"dataframe\">\n",
              "  <thead>\n",
              "    <tr style=\"text-align: right;\">\n",
              "      <th></th>\n",
              "      <th>id</th>\n",
              "      <th>Area</th>\n",
              "      <th>MajorAxisLength</th>\n",
              "      <th>MinorAxisLength</th>\n",
              "      <th>Eccentricity</th>\n",
              "      <th>ConvexArea</th>\n",
              "      <th>EquivDiameter</th>\n",
              "      <th>Extent</th>\n",
              "      <th>Perimeter</th>\n",
              "      <th>Roundness</th>\n",
              "      <th>AspectRation</th>\n",
              "      <th>Class</th>\n",
              "    </tr>\n",
              "  </thead>\n",
              "  <tbody>\n",
              "    <tr>\n",
              "      <th>0</th>\n",
              "      <td>1</td>\n",
              "      <td>4537</td>\n",
              "      <td>92.229316</td>\n",
              "      <td>64.012769</td>\n",
              "      <td>0.719916</td>\n",
              "      <td>4677</td>\n",
              "      <td>76.004525</td>\n",
              "      <td>0.657536</td>\n",
              "      <td>273.085</td>\n",
              "      <td>0.764510</td>\n",
              "      <td>1.440796</td>\n",
              "      <td>1</td>\n",
              "    </tr>\n",
              "    <tr>\n",
              "      <th>1</th>\n",
              "      <td>2</td>\n",
              "      <td>2872</td>\n",
              "      <td>74.691881</td>\n",
              "      <td>51.400454</td>\n",
              "      <td>0.725553</td>\n",
              "      <td>3015</td>\n",
              "      <td>60.471018</td>\n",
              "      <td>0.713009</td>\n",
              "      <td>208.317</td>\n",
              "      <td>0.831658</td>\n",
              "      <td>1.453137</td>\n",
              "      <td>1</td>\n",
              "    </tr>\n",
              "    <tr>\n",
              "      <th>2</th>\n",
              "      <td>3</td>\n",
              "      <td>3048</td>\n",
              "      <td>76.293164</td>\n",
              "      <td>52.043491</td>\n",
              "      <td>0.731211</td>\n",
              "      <td>3132</td>\n",
              "      <td>62.296341</td>\n",
              "      <td>0.759153</td>\n",
              "      <td>210.012</td>\n",
              "      <td>0.868434</td>\n",
              "      <td>1.465950</td>\n",
              "      <td>1</td>\n",
              "    </tr>\n",
              "    <tr>\n",
              "      <th>3</th>\n",
              "      <td>4</td>\n",
              "      <td>3073</td>\n",
              "      <td>77.033628</td>\n",
              "      <td>51.928487</td>\n",
              "      <td>0.738639</td>\n",
              "      <td>3157</td>\n",
              "      <td>62.551300</td>\n",
              "      <td>0.783529</td>\n",
              "      <td>210.657</td>\n",
              "      <td>0.870203</td>\n",
              "      <td>1.483456</td>\n",
              "      <td>1</td>\n",
              "    </tr>\n",
              "    <tr>\n",
              "      <th>4</th>\n",
              "      <td>5</td>\n",
              "      <td>3693</td>\n",
              "      <td>85.124785</td>\n",
              "      <td>56.374021</td>\n",
              "      <td>0.749282</td>\n",
              "      <td>3802</td>\n",
              "      <td>68.571668</td>\n",
              "      <td>0.769375</td>\n",
              "      <td>230.332</td>\n",
              "      <td>0.874743</td>\n",
              "      <td>1.510000</td>\n",
              "      <td>1</td>\n",
              "    </tr>\n",
              "  </tbody>\n",
              "</table>\n",
              "</div>"
            ],
            "text/plain": [
              "   id  Area  MajorAxisLength  MinorAxisLength  Eccentricity  ConvexArea  \\\n",
              "0   1  4537        92.229316        64.012769      0.719916        4677   \n",
              "1   2  2872        74.691881        51.400454      0.725553        3015   \n",
              "2   3  3048        76.293164        52.043491      0.731211        3132   \n",
              "3   4  3073        77.033628        51.928487      0.738639        3157   \n",
              "4   5  3693        85.124785        56.374021      0.749282        3802   \n",
              "\n",
              "   EquivDiameter    Extent  Perimeter  Roundness  AspectRation  Class  \n",
              "0      76.004525  0.657536    273.085   0.764510      1.440796      1  \n",
              "1      60.471018  0.713009    208.317   0.831658      1.453137      1  \n",
              "2      62.296341  0.759153    210.012   0.868434      1.465950      1  \n",
              "3      62.551300  0.783529    210.657   0.870203      1.483456      1  \n",
              "4      68.571668  0.769375    230.332   0.874743      1.510000      1  "
            ]
          },
          "execution_count": 4,
          "metadata": {},
          "output_type": "execute_result"
        }
      ],
      "source": [
        "data_df = pd.read_csv('riceClassification.csv')\n",
        "data_df.head()"
      ]
    },
    {
      "cell_type": "code",
      "execution_count": 5,
      "metadata": {
        "id": "P_mqR7c8FSt0"
      },
      "outputs": [],
      "source": [
        "data_df.dropna(inplace=True)\n",
        "data_df.drop(['id'], axis=1, inplace=True)"
      ]
    },
    {
      "cell_type": "code",
      "execution_count": 6,
      "metadata": {
        "colab": {
          "base_uri": "https://localhost:8080/"
        },
        "id": "GNN4S8WPAKLb",
        "outputId": "baca0c13-ca92-45fb-9034-d17453cba8be"
      },
      "outputs": [
        {
          "name": "stdout",
          "output_type": "stream",
          "text": [
            "[1 0]\n"
          ]
        }
      ],
      "source": [
        "print(data_df[\"Class\"].unique())"
      ]
    },
    {
      "cell_type": "code",
      "execution_count": 7,
      "metadata": {
        "colab": {
          "base_uri": "https://localhost:8080/"
        },
        "id": "hHU1nZ6SCEV5",
        "outputId": "5884ade0-5f79-4a79-d6d1-292ea46ecda7"
      },
      "outputs": [
        {
          "name": "stdout",
          "output_type": "stream",
          "text": [
            "Class\n",
            "1    9985\n",
            "0    8200\n",
            "Name: count, dtype: int64\n"
          ]
        }
      ],
      "source": [
        "print(data_df[\"Class\"].value_counts())"
      ]
    },
    {
      "cell_type": "code",
      "execution_count": 8,
      "metadata": {
        "colab": {
          "base_uri": "https://localhost:8080/",
          "height": 226
        },
        "id": "QVjutTrlCldz",
        "outputId": "ab3aee91-a5d3-4731-8c19-57b1d456d81d"
      },
      "outputs": [
        {
          "data": {
            "text/html": [
              "<div>\n",
              "<style scoped>\n",
              "    .dataframe tbody tr th:only-of-type {\n",
              "        vertical-align: middle;\n",
              "    }\n",
              "\n",
              "    .dataframe tbody tr th {\n",
              "        vertical-align: top;\n",
              "    }\n",
              "\n",
              "    .dataframe thead th {\n",
              "        text-align: right;\n",
              "    }\n",
              "</style>\n",
              "<table border=\"1\" class=\"dataframe\">\n",
              "  <thead>\n",
              "    <tr style=\"text-align: right;\">\n",
              "      <th></th>\n",
              "      <th>Area</th>\n",
              "      <th>MajorAxisLength</th>\n",
              "      <th>MinorAxisLength</th>\n",
              "      <th>Eccentricity</th>\n",
              "      <th>ConvexArea</th>\n",
              "      <th>EquivDiameter</th>\n",
              "      <th>Extent</th>\n",
              "      <th>Perimeter</th>\n",
              "      <th>Roundness</th>\n",
              "      <th>AspectRation</th>\n",
              "    </tr>\n",
              "  </thead>\n",
              "  <tbody>\n",
              "    <tr>\n",
              "      <th>0</th>\n",
              "      <td>-1.703630</td>\n",
              "      <td>-4.803744</td>\n",
              "      <td>0.417927</td>\n",
              "      <td>-6.393938</td>\n",
              "      <td>-1.696989</td>\n",
              "      <td>-1.830049</td>\n",
              "      <td>0.391654</td>\n",
              "      <td>-2.661778</td>\n",
              "      <td>0.839588</td>\n",
              "      <td>-2.663800</td>\n",
              "    </tr>\n",
              "    <tr>\n",
              "      <th>1</th>\n",
              "      <td>-2.838478</td>\n",
              "      <td>-6.220789</td>\n",
              "      <td>-0.835611</td>\n",
              "      <td>-6.209583</td>\n",
              "      <td>-2.803539</td>\n",
              "      <td>-3.398143</td>\n",
              "      <td>0.923070</td>\n",
              "      <td>-4.857318</td>\n",
              "      <td>1.837215</td>\n",
              "      <td>-2.635418</td>\n",
              "    </tr>\n",
              "    <tr>\n",
              "      <th>2</th>\n",
              "      <td>-2.718519</td>\n",
              "      <td>-6.091404</td>\n",
              "      <td>-0.771700</td>\n",
              "      <td>-6.024520</td>\n",
              "      <td>-2.725641</td>\n",
              "      <td>-3.213879</td>\n",
              "      <td>1.365122</td>\n",
              "      <td>-4.799860</td>\n",
              "      <td>2.383587</td>\n",
              "      <td>-2.605950</td>\n",
              "    </tr>\n",
              "    <tr>\n",
              "      <th>3</th>\n",
              "      <td>-2.701479</td>\n",
              "      <td>-6.031573</td>\n",
              "      <td>-0.783130</td>\n",
              "      <td>-5.781578</td>\n",
              "      <td>-2.708996</td>\n",
              "      <td>-3.188141</td>\n",
              "      <td>1.598635</td>\n",
              "      <td>-4.777995</td>\n",
              "      <td>2.409877</td>\n",
              "      <td>-2.565690</td>\n",
              "    </tr>\n",
              "    <tr>\n",
              "      <th>4</th>\n",
              "      <td>-2.278893</td>\n",
              "      <td>-5.377799</td>\n",
              "      <td>-0.341288</td>\n",
              "      <td>-5.433479</td>\n",
              "      <td>-2.279559</td>\n",
              "      <td>-2.580390</td>\n",
              "      <td>1.463045</td>\n",
              "      <td>-4.111042</td>\n",
              "      <td>2.477331</td>\n",
              "      <td>-2.504645</td>\n",
              "    </tr>\n",
              "  </tbody>\n",
              "</table>\n",
              "</div>"
            ],
            "text/plain": [
              "       Area  MajorAxisLength  MinorAxisLength  Eccentricity  ConvexArea  \\\n",
              "0 -1.703630        -4.803744         0.417927     -6.393938   -1.696989   \n",
              "1 -2.838478        -6.220789        -0.835611     -6.209583   -2.803539   \n",
              "2 -2.718519        -6.091404        -0.771700     -6.024520   -2.725641   \n",
              "3 -2.701479        -6.031573        -0.783130     -5.781578   -2.708996   \n",
              "4 -2.278893        -5.377799        -0.341288     -5.433479   -2.279559   \n",
              "\n",
              "   EquivDiameter    Extent  Perimeter  Roundness  AspectRation  \n",
              "0      -1.830049  0.391654  -2.661778   0.839588     -2.663800  \n",
              "1      -3.398143  0.923070  -4.857318   1.837215     -2.635418  \n",
              "2      -3.213879  1.365122  -4.799860   2.383587     -2.605950  \n",
              "3      -3.188141  1.598635  -4.777995   2.409877     -2.565690  \n",
              "4      -2.580390  1.463045  -4.111042   2.477331     -2.504645  "
            ]
          },
          "execution_count": 8,
          "metadata": {},
          "output_type": "execute_result"
        }
      ],
      "source": [
        "# prompt: use standard scaler on the dataframe copy\n",
        "\n",
        "from sklearn.preprocessing import StandardScaler\n",
        "\n",
        "scaler = StandardScaler()\n",
        "original_df = data_df.copy()\n",
        "\n",
        "X = data_df.iloc[:, :-1]\n",
        "y = data_df.iloc[:, -1]\n",
        "\n",
        "cols = X.columns\n",
        "X[cols] = scaler.fit_transform(X[cols])\n",
        "\n",
        "X.head()"
      ]
    },
    {
      "cell_type": "code",
      "execution_count": 9,
      "metadata": {
        "id": "z2LEzUTkVOLP"
      },
      "outputs": [],
      "source": [
        "X_train, X_test, y_train, y_test = train_test_split(X, y, test_size=0.3, random_state=42)\n",
        "X_test, X_val, y_test, y_val = train_test_split(X_test, y_test, test_size=0.5, random_state=42)"
      ]
    },
    {
      "cell_type": "code",
      "execution_count": 10,
      "metadata": {
        "id": "1R5G1T3dNqyE"
      },
      "outputs": [],
      "source": [
        "class dataset(Dataset):\n",
        "  def __init__(self, X, y):\n",
        "    self.X = torch.tensor(X.values, dtype=torch.float32).to(device)\n",
        "    self.y = torch.tensor(y.values, dtype=torch.float32).to(device)\n",
        "\n",
        "  def __len__(self):\n",
        "    return len(self.X)\n",
        "\n",
        "  def __getitem__(self, idx):\n",
        "    return self.X[idx], self.y[idx]\n",
        "\n",
        "training_data = dataset(X_train, y_train)\n",
        "validation_data = dataset(X_val, y_val)\n",
        "testing_data = dataset(X_test, y_test)"
      ]
    },
    {
      "cell_type": "code",
      "execution_count": 11,
      "metadata": {
        "id": "bkM-iI5YOmwB"
      },
      "outputs": [],
      "source": [
        "# Hyperparameter setting\n",
        "BATCH_SIZE = 64\n",
        "EPOCHS = 10\n",
        "HIDDEN_NEURONS = 100\n",
        "LR = 1e-3"
      ]
    },
    {
      "cell_type": "code",
      "execution_count": 12,
      "metadata": {
        "id": "y7VrqjfgOxCx"
      },
      "outputs": [],
      "source": [
        "train_dataloader = DataLoader(training_data, batch_size=BATCH_SIZE, shuffle=True)\n",
        "val_dataloader = DataLoader(validation_data, batch_size=BATCH_SIZE, shuffle=True)\n",
        "test_dataloader = DataLoader(testing_data, batch_size=BATCH_SIZE, shuffle=True)"
      ]
    },
    {
      "cell_type": "code",
      "execution_count": 13,
      "metadata": {
        "colab": {
          "base_uri": "https://localhost:8080/"
        },
        "id": "mZaGyNkqSIHv",
        "outputId": "ab350e8c-7597-4df0-c669-9f9d3e0745e5"
      },
      "outputs": [
        {
          "data": {
            "text/plain": [
              "<torch.utils.data.dataloader.DataLoader at 0x7fc37c0d7d30>"
            ]
          },
          "execution_count": 13,
          "metadata": {},
          "output_type": "execute_result"
        }
      ],
      "source": [
        "train_dataloader"
      ]
    },
    {
      "cell_type": "code",
      "execution_count": 14,
      "metadata": {
        "id": "4WjRBEyhO9zM"
      },
      "outputs": [],
      "source": [
        "class MyModel(nn.Module):\n",
        "  def __init__(self):\n",
        "\n",
        "    super(MyModel, self).__init__()\n",
        "\n",
        "    self.input_layer = nn.Linear(X.shape[1], HIDDEN_NEURONS)\n",
        "    self.linear = nn.Linear(HIDDEN_NEURONS, 1)\n",
        "    self.sigmoid = nn.Sigmoid()\n",
        "\n",
        "  def forward(self, x):\n",
        "    x = self.input_layer(x)\n",
        "    x = self.linear(x)\n",
        "    x = self.sigmoid(x)\n",
        "    return x"
      ]
    },
    {
      "cell_type": "code",
      "execution_count": 15,
      "metadata": {
        "colab": {
          "base_uri": "https://localhost:8080/"
        },
        "id": "UAV5KBNRP7gg",
        "outputId": "7d8c4300-4eb4-420b-fb03-14e321805651"
      },
      "outputs": [
        {
          "name": "stdout",
          "output_type": "stream",
          "text": [
            "----------------------------------------------------------------\n",
            "        Layer (type)               Output Shape         Param #\n",
            "================================================================\n",
            "            Linear-1                  [-1, 100]           1,100\n",
            "            Linear-2                    [-1, 1]             101\n",
            "           Sigmoid-3                    [-1, 1]               0\n",
            "================================================================\n",
            "Total params: 1,201\n",
            "Trainable params: 1,201\n",
            "Non-trainable params: 0\n",
            "----------------------------------------------------------------\n",
            "Input size (MB): 0.00\n",
            "Forward/backward pass size (MB): 0.00\n",
            "Params size (MB): 0.00\n",
            "Estimated Total Size (MB): 0.01\n",
            "----------------------------------------------------------------\n"
          ]
        }
      ],
      "source": [
        "model = MyModel().to(device)\n",
        "summary(model, (X.shape[1], ))"
      ]
    },
    {
      "cell_type": "code",
      "execution_count": 16,
      "metadata": {
        "id": "p0hisR9IQjnQ"
      },
      "outputs": [],
      "source": [
        "# Loss and Optimizer\n",
        "criterion = nn.BCELoss()\n",
        "optimizer = Adam(model.parameters(), lr = LR)"
      ]
    },
    {
      "cell_type": "code",
      "execution_count": 17,
      "metadata": {
        "colab": {
          "base_uri": "https://localhost:8080/",
          "height": 106
        },
        "id": "2uojOEPtRlqc",
        "outputId": "47a0800a-052c-4af0-c91f-385f949cc0cc"
      },
      "outputs": [
        {
          "name": "stdout",
          "output_type": "stream",
          "text": [
            "Epoch no. 1:\n",
            "  Training Loss: 0.0263\n",
            "  Training Accuracy: 96.8261%\n",
            "  Validation Loss: 0.0022\n",
            "  Validation Accuracy: 98.607%\n",
            "  \n",
            "==================================================\n",
            "Epoch no. 2:\n",
            "  Training Loss: 0.0092\n",
            "  Training Accuracy: 98.5781%\n",
            "  Validation Loss: 0.002\n",
            "  Validation Accuracy: 98.3871%\n",
            "  \n",
            "==================================================\n",
            "Epoch no. 3:\n",
            "  Training Loss: 0.0085\n",
            "  Training Accuracy: 98.5938%\n",
            "  Validation Loss: 0.0019\n",
            "  Validation Accuracy: 98.607%\n",
            "  \n",
            "==================================================\n",
            "Epoch no. 4:\n",
            "  Training Loss: 0.0082\n",
            "  Training Accuracy: 98.6488%\n",
            "  Validation Loss: 0.002\n",
            "  Validation Accuracy: 98.4604%\n",
            "  \n",
            "==================================================\n",
            "Epoch no. 5:\n",
            "  Training Loss: 0.0081\n",
            "  Training Accuracy: 98.6409%\n",
            "  Validation Loss: 0.0019\n",
            "  Validation Accuracy: 98.4604%\n",
            "  \n",
            "==================================================\n",
            "Epoch no. 6:\n",
            "  Training Loss: 0.008\n",
            "  Training Accuracy: 98.7195%\n",
            "  Validation Loss: 0.0017\n",
            "  Validation Accuracy: 98.607%\n",
            "  \n",
            "==================================================\n",
            "Epoch no. 7:\n",
            "  Training Loss: 0.0079\n",
            "  Training Accuracy: 98.7352%\n",
            "  Validation Loss: 0.0017\n",
            "  Validation Accuracy: 98.6437%\n",
            "  \n",
            "==================================================\n",
            "Epoch no. 8:\n",
            "  Training Loss: 0.0078\n",
            "  Training Accuracy: 98.7587%\n",
            "  Validation Loss: 0.0017\n",
            "  Validation Accuracy: 98.717%\n",
            "  \n",
            "==================================================\n",
            "Epoch no. 9:\n",
            "  Training Loss: 0.0077\n",
            "  Training Accuracy: 98.7273%\n",
            "  Validation Loss: 0.0017\n",
            "  Validation Accuracy: 98.6804%\n",
            "  \n",
            "==================================================\n",
            "Epoch no. 10:\n",
            "  Training Loss: 0.0076\n",
            "  Training Accuracy: 98.7509%\n",
            "  Validation Loss: 0.0017\n",
            "  Validation Accuracy: 98.6437%\n",
            "  \n",
            "==================================================\n"
          ]
        }
      ],
      "source": [
        "# TRAINING\n",
        "total_loss_train_plot = []\n",
        "total_loss_validation_plot = []\n",
        "total_acc_train_plot = []\n",
        "total_acc_validation_plot = []\n",
        "\n",
        "for epoch in range(EPOCHS):\n",
        "  total_acc_train = 0\n",
        "  total_loss_train = 0\n",
        "  total_acc_val = 0\n",
        "  total_loss_val = 0\n",
        "\n",
        "  for data in train_dataloader:\n",
        "    inputs, labels = data\n",
        "    prediction = model(inputs).squeeze(1)\n",
        "    batch_loss = criterion(prediction, labels)\n",
        "    total_loss_train += batch_loss.item()\n",
        "    acc = ((prediction).round() == labels).sum().item()\n",
        "    total_acc_train += acc\n",
        "\n",
        "    batch_loss.backward()\n",
        "    optimizer.step()\n",
        "    optimizer.zero_grad()\n",
        "\n",
        "  with torch.no_grad():\n",
        "    for data in val_dataloader:\n",
        "      inputs, labels = data\n",
        "      prediction = model(inputs).squeeze(1)\n",
        "      batch_loss = criterion(prediction, labels)\n",
        "      total_loss_val += batch_loss.item()\n",
        "      acc = ((prediction).round() == labels).sum().item()\n",
        "      # print(\"Accuracy: \", acc)\n",
        "      total_acc_val += acc\n",
        "\n",
        "  total_loss_train_plot.append(round(total_loss_train/1000, 4))\n",
        "  total_loss_validation_plot.append(round(total_loss_val/1000, 4))\n",
        "  total_acc_train_plot.append(round(total_acc_train/(training_data.__len__())*100, 4))\n",
        "  total_acc_validation_plot.append(round(total_acc_val/(validation_data.__len__())*100, 4))\n",
        "\n",
        "  print(f'''Epoch no. {epoch+1}:\n",
        "  Training Loss: {round(total_loss_train/1000, 4)}\n",
        "  Training Accuracy: {round(total_acc_train/(training_data.__len__())*100, 4)}%\n",
        "  Validation Loss: {round(total_loss_val/1000, 4)}\n",
        "  Validation Accuracy: {round(total_acc_val/(validation_data.__len__())*100, 4)}%\n",
        "  ''')\n",
        "\n",
        "  print('='*50)"
      ]
    },
    {
      "cell_type": "code",
      "execution_count": 18,
      "metadata": {
        "id": "M-mcdDVDQB9i"
      },
      "outputs": [
        {
          "name": "stdout",
          "output_type": "stream",
          "text": [
            "Help on function summary in module torchsummary.torchsummary:\n",
            "\n",
            "summary(model, input_size, batch_size=-1, device='cuda')\n",
            "\n"
          ]
        }
      ],
      "source": [
        "help(summary)"
      ]
    },
    {
      "cell_type": "code",
      "execution_count": 19,
      "metadata": {},
      "outputs": [
        {
          "name": "stdout",
          "output_type": "stream",
          "text": [
            "Testing Loss: 0.0011\n",
            "  Testing Accuracy: 99.4135%\n",
            "  \n"
          ]
        }
      ],
      "source": [
        "# TESTING\n",
        "with torch.no_grad():\n",
        "  total_acc_test = 0\n",
        "  total_loss_test = 0\n",
        "\n",
        "  for data in test_dataloader:\n",
        "    inputs, labels = data\n",
        "    prediction = model(inputs).squeeze(1)\n",
        "    batch_loss = criterion(prediction, labels)\n",
        "    total_loss_test += batch_loss.item()\n",
        "    acc = ((prediction).round() == labels).sum().item()\n",
        "    total_acc_test += acc\n",
        "\n",
        "  print(f'''Testing Loss: {round(total_loss_test/1000, 4)}\n",
        "  Testing Accuracy: {round(total_acc_test/(testing_data.__len__())*100, 4)}%\n",
        "  ''')"
      ]
    },
    {
      "cell_type": "code",
      "execution_count": 20,
      "metadata": {},
      "outputs": [
        {
          "data": {
            "image/png": "[encoded data removed]",
            "text/plain": [
              "<Figure size 1500x500 with 2 Axes>"
            ]
          },
          "metadata": {},
          "output_type": "display_data"
        }
      ],
      "source": [
        "# Plotting and Visualizations\n",
        "fig, axs = plt.subplots(nrows=1, ncols=2, figsize=(15, 5))\n",
        "axs[0].plot(total_loss_train_plot, label='Training Loss')\n",
        "axs[0].plot(total_loss_validation_plot, label='Validation Loss')\n",
        "axs[0].set_title('Training and Validation Loss over Epochs')\n",
        "axs[0].set_xlabel('Epochs')\n",
        "axs[0].set_ylabel('Loss')\n",
        "axs[0].set_ylim([0, 2])\n",
        "axs[0].legend()\n",
        "\n",
        "axs[1].plot(total_acc_train_plot, label='Training Accuracy')\n",
        "axs[1].plot(total_acc_validation_plot, label='Validation Accuracy')\n",
        "axs[1].set_title('Training and Validation Accuracy over Epochs')\n",
        "axs[1].set_xlabel('Epochs')\n",
        "axs[1].set_ylabel('Accuracy')\n",
        "axs[1].set_ylim([0, 100])\n",
        "axs[1].legend()\n",
        "\n",
        "plt.tight_layout()\n",
        "plt.show()"
      ]
    },
    {
      "cell_type": "code",
      "execution_count": 21,
      "metadata": {},
      "outputs": [
        {
          "data": {
            "text/html": [
              "<div>\n",
              "<style scoped>\n",
              "    .dataframe tbody tr th:only-of-type {\n",
              "        vertical-align: middle;\n",
              "    }\n",
              "\n",
              "    .dataframe tbody tr th {\n",
              "        vertical-align: top;\n",
              "    }\n",
              "\n",
              "    .dataframe thead th {\n",
              "        text-align: right;\n",
              "    }\n",
              "</style>\n",
              "<table border=\"1\" class=\"dataframe\">\n",
              "  <thead>\n",
              "    <tr style=\"text-align: right;\">\n",
              "      <th></th>\n",
              "      <th>Area</th>\n",
              "      <th>MajorAxisLength</th>\n",
              "      <th>MinorAxisLength</th>\n",
              "      <th>Eccentricity</th>\n",
              "      <th>ConvexArea</th>\n",
              "      <th>EquivDiameter</th>\n",
              "      <th>Extent</th>\n",
              "      <th>Perimeter</th>\n",
              "      <th>Roundness</th>\n",
              "      <th>AspectRation</th>\n",
              "      <th>Class</th>\n",
              "    </tr>\n",
              "  </thead>\n",
              "  <tbody>\n",
              "    <tr>\n",
              "      <th>count</th>\n",
              "      <td>18185.000000</td>\n",
              "      <td>18185.000000</td>\n",
              "      <td>18185.000000</td>\n",
              "      <td>18185.000000</td>\n",
              "      <td>18185.000000</td>\n",
              "      <td>18185.000000</td>\n",
              "      <td>18185.000000</td>\n",
              "      <td>18185.000000</td>\n",
              "      <td>18185.000000</td>\n",
              "      <td>18185.000000</td>\n",
              "      <td>18185.000000</td>\n",
              "    </tr>\n",
              "    <tr>\n",
              "      <th>mean</th>\n",
              "      <td>7036.492989</td>\n",
              "      <td>151.680754</td>\n",
              "      <td>59.807851</td>\n",
              "      <td>0.915406</td>\n",
              "      <td>7225.817872</td>\n",
              "      <td>94.132952</td>\n",
              "      <td>0.616653</td>\n",
              "      <td>351.606949</td>\n",
              "      <td>0.707998</td>\n",
              "      <td>2.599081</td>\n",
              "      <td>0.549079</td>\n",
              "    </tr>\n",
              "    <tr>\n",
              "      <th>std</th>\n",
              "      <td>1467.197150</td>\n",
              "      <td>12.376402</td>\n",
              "      <td>10.061653</td>\n",
              "      <td>0.030575</td>\n",
              "      <td>1502.006571</td>\n",
              "      <td>9.906250</td>\n",
              "      <td>0.104389</td>\n",
              "      <td>29.500620</td>\n",
              "      <td>0.067310</td>\n",
              "      <td>0.434836</td>\n",
              "      <td>0.497599</td>\n",
              "    </tr>\n",
              "    <tr>\n",
              "      <th>min</th>\n",
              "      <td>2522.000000</td>\n",
              "      <td>74.133114</td>\n",
              "      <td>34.409894</td>\n",
              "      <td>0.676647</td>\n",
              "      <td>2579.000000</td>\n",
              "      <td>56.666658</td>\n",
              "      <td>0.383239</td>\n",
              "      <td>197.015000</td>\n",
              "      <td>0.174590</td>\n",
              "      <td>1.358128</td>\n",
              "      <td>0.000000</td>\n",
              "    </tr>\n",
              "    <tr>\n",
              "      <th>25%</th>\n",
              "      <td>5962.000000</td>\n",
              "      <td>145.675910</td>\n",
              "      <td>51.393151</td>\n",
              "      <td>0.891617</td>\n",
              "      <td>6125.000000</td>\n",
              "      <td>87.126656</td>\n",
              "      <td>0.538530</td>\n",
              "      <td>333.990000</td>\n",
              "      <td>0.650962</td>\n",
              "      <td>2.208527</td>\n",
              "      <td>0.000000</td>\n",
              "    </tr>\n",
              "    <tr>\n",
              "      <th>50%</th>\n",
              "      <td>6660.000000</td>\n",
              "      <td>153.883750</td>\n",
              "      <td>55.724288</td>\n",
              "      <td>0.923259</td>\n",
              "      <td>6843.000000</td>\n",
              "      <td>92.085696</td>\n",
              "      <td>0.601194</td>\n",
              "      <td>353.088000</td>\n",
              "      <td>0.701941</td>\n",
              "      <td>2.602966</td>\n",
              "      <td>1.000000</td>\n",
              "    </tr>\n",
              "    <tr>\n",
              "      <th>75%</th>\n",
              "      <td>8423.000000</td>\n",
              "      <td>160.056214</td>\n",
              "      <td>70.156593</td>\n",
              "      <td>0.941372</td>\n",
              "      <td>8645.000000</td>\n",
              "      <td>103.559146</td>\n",
              "      <td>0.695664</td>\n",
              "      <td>373.003000</td>\n",
              "      <td>0.769280</td>\n",
              "      <td>2.964101</td>\n",
              "      <td>1.000000</td>\n",
              "    </tr>\n",
              "    <tr>\n",
              "      <th>max</th>\n",
              "      <td>10210.000000</td>\n",
              "      <td>183.211434</td>\n",
              "      <td>82.550762</td>\n",
              "      <td>0.966774</td>\n",
              "      <td>11008.000000</td>\n",
              "      <td>114.016559</td>\n",
              "      <td>0.886573</td>\n",
              "      <td>508.511000</td>\n",
              "      <td>0.904748</td>\n",
              "      <td>3.911845</td>\n",
              "      <td>1.000000</td>\n",
              "    </tr>\n",
              "  </tbody>\n",
              "</table>\n",
              "</div>"
            ],
            "text/plain": [
              "               Area  MajorAxisLength  MinorAxisLength  Eccentricity  \\\n",
              "count  18185.000000     18185.000000     18185.000000  18185.000000   \n",
              "mean    7036.492989       151.680754        59.807851      0.915406   \n",
              "std     1467.197150        12.376402        10.061653      0.030575   \n",
              "min     2522.000000        74.133114        34.409894      0.676647   \n",
              "25%     5962.000000       145.675910        51.393151      0.891617   \n",
              "50%     6660.000000       153.883750        55.724288      0.923259   \n",
              "75%     8423.000000       160.056214        70.156593      0.941372   \n",
              "max    10210.000000       183.211434        82.550762      0.966774   \n",
              "\n",
              "         ConvexArea  EquivDiameter        Extent     Perimeter     Roundness  \\\n",
              "count  18185.000000   18185.000000  18185.000000  18185.000000  18185.000000   \n",
              "mean    7225.817872      94.132952      0.616653    351.606949      0.707998   \n",
              "std     1502.006571       9.906250      0.104389     29.500620      0.067310   \n",
              "min     2579.000000      56.666658      0.383239    197.015000      0.174590   \n",
              "25%     6125.000000      87.126656      0.538530    333.990000      0.650962   \n",
              "50%     6843.000000      92.085696      0.601194    353.088000      0.701941   \n",
              "75%     8645.000000     103.559146      0.695664    373.003000      0.769280   \n",
              "max    11008.000000     114.016559      0.886573    508.511000      0.904748   \n",
              "\n",
              "       AspectRation         Class  \n",
              "count  18185.000000  18185.000000  \n",
              "mean       2.599081      0.549079  \n",
              "std        0.434836      0.497599  \n",
              "min        1.358128      0.000000  \n",
              "25%        2.208527      0.000000  \n",
              "50%        2.602966      1.000000  \n",
              "75%        2.964101      1.000000  \n",
              "max        3.911845      1.000000  "
            ]
          },
          "execution_count": 21,
          "metadata": {},
          "output_type": "execute_result"
        }
      ],
      "source": [
        "desc = data_df.describe()\n",
        "desc"
      ]
    },
    {
      "cell_type": "code",
      "execution_count": 22,
      "metadata": {},
      "outputs": [
        {
          "data": {
            "text/plain": [
              "str"
            ]
          },
          "execution_count": 22,
          "metadata": {},
          "output_type": "execute_result"
        }
      ],
      "source": [
        "type(desc.columns[0])"
      ]
    },
    {
      "cell_type": "code",
      "execution_count": 25,
      "metadata": {},
      "outputs": [
        {
          "data": {
            "text/plain": [
              "Index(['Area', 'MajorAxisLength', 'MinorAxisLength', 'Eccentricity',\n",
              "       'ConvexArea', 'EquivDiameter', 'Extent', 'Perimeter', 'Roundness',\n",
              "       'AspectRation'],\n",
              "      dtype='object')"
            ]
          },
          "execution_count": 25,
          "metadata": {},
          "output_type": "execute_result"
        }
      ],
      "source": [
        "desc.columns[:-1]"
      ]
    },
    {
      "cell_type": "code",
      "execution_count": 34,
      "metadata": {},
      "outputs": [
        {
          "name": "stdout",
          "output_type": "stream",
          "text": [
            "0.11144174540958504\n",
            "0.26819151409861963\n",
            "-0.17967735903963833\n",
            "-0.17682192980929204\n",
            "0.11596628900800555\n",
            "0.08752530563098737\n",
            "0.03206431081191869\n",
            "0.2845042169084366\n",
            "2.1096615683538396\n",
            "0.1630932926722286\n",
            "====================\n",
            "tensor([0.0067], device='cuda:0', grad_fn=<SigmoidBackward0>)\n",
            "Class is:  0\n"
          ]
        }
      ],
      "source": [
        "Area = float(input(\"Area: \"))\n",
        "MajorAxisLength = float(input(\"MajorAxisLength: \"))\n",
        "MinorAxisLength = float(input(\"MinorAxisLength: \"))\n",
        "Eccentricity = float(input(\"Eccentricity: \"))\n",
        "ConvexArea = float(input(\"ConvexArea: \"))\n",
        "EquivDiameter = float(input(\"EquivDiameter: \"))\n",
        "Extent = float(input(\"Extent: \"))\n",
        "Perimeter = float(input(\"Perimeter: \"))\n",
        "Roundness = float(input(\"Roundness: \"))\n",
        "AspectRation = float(input(\"AspectRation: \"))\n",
        "\n",
        "inputs = [Area, MajorAxisLength, MinorAxisLength, Eccentricity, ConvexArea, EquivDiameter, Extent, Perimeter, Roundness, AspectRation]\n",
        "\n",
        "\n",
        "for i, col in enumerate(desc.columns[:-1]):\n",
        "    mean = desc.loc['mean', col]\n",
        "    std = desc.loc['std', col]\n",
        "    inputs[i] = (inputs[i] - mean) / std\n",
        "    print(inputs[i])\n",
        "\n",
        "print(\"=\"*20)\n",
        "model_input = torch.tensor(inputs, dtype=torch.float32).to(device)\n",
        "prediction = model(model_input)\n",
        "print(prediction)\n",
        "print(\"Class is: \", round(prediction.item()))\n"
      ]
    }
  ],
  "metadata": {
    "accelerator": "GPU",
    "colab": {
      "gpuType": "T4",
      "provenance": []
    },
    "kernelspec": {
      "display_name": "dipl_pro_venv",
      "language": "python",
      "name": "python3"
    },
    "language_info": {
      "codemirror_mode": {
        "name": "ipython",
        "version": 3
      },
      "file_extension": ".py",
      "mimetype": "text/x-python",
      "name": "python",
      "nbconvert_exporter": "python",
      "pygments_lexer": "ipython3",
      "version": "3.9.2"
    }
  },
  "nbformat": 4,
  "nbformat_minor": 0
}
